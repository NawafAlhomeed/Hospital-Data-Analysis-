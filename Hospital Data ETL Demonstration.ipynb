{
 "cells": [
  {
   "cell_type": "markdown",
   "id": "05433f87-608b-45fe-86c4-83ea4576d3ea",
   "metadata": {},
   "source": [
    "#  Hospital Data ETL Demonstration\n",
    "\n",
    "This notebook demonstrates **Python-based ETL (Extract, Transform, Load)** steps on a hospital dataset.  \n",
    "It is intended to showcase **data engineering skills** using Python, while the final **visualizations and reporting** will be built in **Power BI**.\n",
    "\n",
    "---"
   ]
  },
  {
   "cell_type": "markdown",
   "id": "7747e35a-3760-48ee-9e13-caf124c1b7b6",
   "metadata": {},
   "source": [
    "## 1. Setup & Libraries"
   ]
  },
  {
   "cell_type": "code",
   "execution_count": null,
   "id": "fcb6f472-c090-418b-8045-db2f4ec13cf1",
   "metadata": {},
   "outputs": [],
   "source": [
    "import pandas as pd\n",
    "import os"
   ]
  },
  {
   "cell_type": "markdown",
   "id": "86675c11-b9a8-4f8d-973d-0e6fd29c0004",
   "metadata": {},
   "source": [
    "## 2. Load Hospital Data Tables"
   ]
  },
  {
   "cell_type": "code",
   "execution_count": null,
   "id": "ac23ea85-5e33-453a-af31-d80a5ca6cbf9",
   "metadata": {},
   "outputs": [],
   "source": [
    "# Define folder path where CSV files are located\n",
    "folder_path = r'C:\\Users\\nawaf\\Downloads\\HospetalDB'  # change if needed\n",
    "\n",
    "# List CSV files in folder\n",
    "csv_files = [f for f in os.listdir(folder_path) if f.endswith('.csv')]\n",
    "\n",
    "# Load CSV files into a dictionary\n",
    "dataframes = {f.split('.csv')[0].strip().lower(): pd.read_csv(os.path.join(folder_path, f))\n",
    "              for f in csv_files}\n",
    "\n",
    "# Assign variables\n",
    "appointments = dataframes.get('appointments')\n",
    "patients = dataframes.get('patients')\n",
    "doctors = dataframes.get('doctors')\n",
    "treatments = dataframes.get('treatments')\n",
    "beeling = dataframes.get('billing')\n"
   ]
  },
  {
   "cell_type": "markdown",
   "id": "89fab10a-5629-424a-bc5d-2bc57da2c431",
   "metadata": {},
   "source": [
    "## 3. Data Overview"
   ]
  },
  {
   "cell_type": "code",
   "execution_count": null,
   "id": "1e9a9895-c84b-4557-810e-22edf720ebed",
   "metadata": {},
   "outputs": [],
   "source": [
    "\n",
    "# Display shapes of all tables\n",
    "print(\"Patients:\", patients.shape)\n",
    "print(\"Appointments:\", appointments.shape)\n",
    "print(\"Doctors:\", doctors.shape)\n",
    "print(\"Treatments:\", treatments.shape)\n",
    "print(\"Billing:\", billing.shape)\n",
    "\n",
    "# Quick info and missing values check\n",
    "patients.info()\n",
    "patients.isnull().sum()\n",
    "    "
   ]
  },
  {
   "cell_type": "markdown",
   "id": "4941b880-dfc6-4dd6-aa62-4b03f5ad6e93",
   "metadata": {},
   "source": [
    "## 4. General + Healthcare-Specific Transformations"
   ]
  },
  {
   "cell_type": "code",
   "execution_count": 126,
   "id": "53c423d1-19a7-4517-9943-79eb1dc81ca2",
   "metadata": {
    "scrolled": true
   },
   "outputs": [
    {
     "name": "stdout",
     "output_type": "stream",
     "text": [
      "  patient_id first_name last_name gender date_of_birth  contact_number  \\\n",
      "0       P001      David  Williams      F    1955-06-04      6939585183   \n",
      "1       P002      Emily     Smith      F    1984-10-12      8228188767   \n",
      "2       P003      Laura     Jones      M    1977-08-21      8397029847   \n",
      "3       P004    Michael   Johnson      F    1981-02-20      9019443432   \n",
      "4       P005      David    Wilson      M    1960-06-23      7734463155   \n",
      "\n",
      "        address registration_date insurance_provider insurance_number  \\\n",
      "0   789 Pine Rd        2022-06-23       WellnessCorp        INS840674   \n",
      "1  321 Maple Dr        2022-01-15        PulseSecure        INS354079   \n",
      "2  321 Maple Dr        2022-02-07        PulseSecure        INS650929   \n",
      "3    123 Elm St        2021-03-02        HealthIndia        INS789944   \n",
      "4    123 Elm St        2021-09-29       MedCare Plus        INS788105   \n",
      "\n",
      "                      email  \n",
      "0   david.williams@mail.com  \n",
      "1      emily.smith@mail.com  \n",
      "2      laura.jones@mail.com  \n",
      "3  michael.johnson@mail.com  \n",
      "4     david.wilson@mail.com  \n"
     ]
    }
   ],
   "source": [
    "# 1. rename columns for consistency\n",
    "patients = patients.rename(columns={\"Name\": \"patient_name\", \"Age\": \"patient_age\"})\n",
    "print(patients.head())"
   ]
  },
  {
   "cell_type": "code",
   "execution_count": 169,
   "id": "fa0101fd-194c-4e2a-acdd-813aa2748dc2",
   "metadata": {},
   "outputs": [
    {
     "name": "stdout",
     "output_type": "stream",
     "text": [
      "  patient_id first_name last_name  gender date_of_birth  contact_number  \\\n",
      "0       P001      David  Williams  Female    1955-06-04      6939585183   \n",
      "1       P002      Emily     Smith  Female    1984-10-12      8228188767   \n",
      "2       P003      Laura     Jones    Male    1977-08-21      8397029847   \n",
      "3       P004    Michael   Johnson  Female    1981-02-20      9019443432   \n",
      "4       P005      David    Wilson    Male    1960-06-23      7734463155   \n",
      "\n",
      "        address registration_date insurance_provider insurance_number  \\\n",
      "0   789 Pine Rd        2022-06-23       WellnessCorp        INS840674   \n",
      "1  321 Maple Dr        2022-01-15        PulseSecure        INS354079   \n",
      "2  321 Maple Dr        2022-02-07        PulseSecure        INS650929   \n",
      "3    123 Elm St        2021-03-02        HealthIndia        INS789944   \n",
      "4    123 Elm St        2021-09-29       MedCare Plus        INS788105   \n",
      "\n",
      "                      email  \n",
      "0   david.williams@mail.com  \n",
      "1      emily.smith@mail.com  \n",
      "2      laura.jones@mail.com  \n",
      "3  michael.johnson@mail.com  \n",
      "4     david.wilson@mail.com  \n"
     ]
    }
   ],
   "source": [
    "# 2. standardize text formatting\n",
    "patients['first_name'] = patients['first_name'].str.strip().str.title()\n",
    "print(patients.head())"
   ]
  },
  {
   "cell_type": "code",
   "execution_count": 130,
   "id": "13a66888-d909-4a7f-8ed3-b45e63dc511d",
   "metadata": {},
   "outputs": [
    {
     "name": "stdout",
     "output_type": "stream",
     "text": [
      "  appointment_id patient_id doctor_id appointment_date appointment_time  \\\n",
      "0           A001       P034      D009       2023-08-09         15:15:00   \n",
      "1           A002       P032      D004       2023-06-09         14:30:00   \n",
      "2           A003       P048      D004       2023-06-28          8:00:00   \n",
      "3           A004       P025      D006       2023-09-01          9:15:00   \n",
      "4           A005       P040      D003       2023-07-06         12:45:00   \n",
      "\n",
      "  reason_for_visit     status  \n",
      "0          Therapy  Scheduled  \n",
      "1          Therapy    No-show  \n",
      "2     Consultation  Cancelled  \n",
      "3     Consultation  Cancelled  \n",
      "4        Emergency    No-show  \n"
     ]
    }
   ],
   "source": [
    "# 3. convert date columns to datetime\n",
    "appointments['appointment_date'] = pd.to_datetime(appointments['appointment_date'])\n",
    "print(appointments.head())"
   ]
  },
  {
   "cell_type": "code",
   "execution_count": 185,
   "id": "7468870e-916b-43be-bf58-0a4531259790",
   "metadata": {},
   "outputs": [
    {
     "name": "stdout",
     "output_type": "stream",
     "text": [
      "  patient_id first_name last_name  gender date_of_birth  contact_number  \\\n",
      "0       P001      David  Williams  Female    1955-06-04      6939585183   \n",
      "1       P002      Emily     Smith  Female    1984-10-12      8228188767   \n",
      "2       P003      Laura     Jones    Male    1977-08-21      8397029847   \n",
      "3       P004    Michael   Johnson  Female    1981-02-20      9019443432   \n",
      "4       P005      David    Wilson    Male    1960-06-23      7734463155   \n",
      "\n",
      "        address registration_date insurance_provider insurance_number  \\\n",
      "0   789 Pine Rd        2022-06-23       WellnessCorp        INS840674   \n",
      "1  321 Maple Dr        2022-01-15        PulseSecure        INS354079   \n",
      "2  321 Maple Dr        2022-02-07        PulseSecure        INS650929   \n",
      "3    123 Elm St        2021-03-02        HealthIndia        INS789944   \n",
      "4    123 Elm St        2021-09-29       MedCare Plus        INS788105   \n",
      "\n",
      "                      email  patient_age  \n",
      "0   david.williams@mail.com           70  \n",
      "1      emily.smith@mail.com           40  \n",
      "2      laura.jones@mail.com           48  \n",
      "3  michael.johnson@mail.com           44  \n",
      "4     david.wilson@mail.com           65  \n"
     ]
    }
   ],
   "source": [
    "# 4. calculate patient age from date_of_birth and handle missing values\n",
    "patients['date_of_birth'] = pd.to_datetime(patients['date_of_birth'], errors='coerce')  # convert to datetime\n",
    "today = pd.Timestamp('today')\n",
    "patients['patient_age'] = (today - patients['date_of_birth']).dt.days // 365  # age in years\n",
    "patients['patient_age'] = patients['patient_age'].fillna(patients['patient_age'].median())  # fill missing\n",
    "print(patients.head())\n"
   ]
  },
  {
   "cell_type": "code",
   "execution_count": 187,
   "id": "efdeeaa2-9f31-4cd4-ad86-9bac16f51d1c",
   "metadata": {},
   "outputs": [
    {
     "name": "stdout",
     "output_type": "stream",
     "text": [
      "  patient_id first_name last_name  gender date_of_birth  contact_number  \\\n",
      "0       P001      David  Williams  Female    1955-06-04      6939585183   \n",
      "1       P002      Emily     Smith  Female    1984-10-12      8228188767   \n",
      "2       P003      Laura     Jones    Male    1977-08-21      8397029847   \n",
      "3       P004    Michael   Johnson  Female    1981-02-20      9019443432   \n",
      "4       P005      David    Wilson    Male    1960-06-23      7734463155   \n",
      "\n",
      "        address registration_date insurance_provider insurance_number  \\\n",
      "0   789 Pine Rd        2022-06-23       WellnessCorp        INS840674   \n",
      "1  321 Maple Dr        2022-01-15        PulseSecure        INS354079   \n",
      "2  321 Maple Dr        2022-02-07        PulseSecure        INS650929   \n",
      "3    123 Elm St        2021-03-02        HealthIndia        INS789944   \n",
      "4    123 Elm St        2021-09-29       MedCare Plus        INS788105   \n",
      "\n",
      "                      email  patient_age age_group  \n",
      "0   david.williams@mail.com           70    Senior  \n",
      "1      emily.smith@mail.com           40     Adult  \n",
      "2      laura.jones@mail.com           48     Adult  \n",
      "3  michael.johnson@mail.com           44     Adult  \n",
      "4     david.wilson@mail.com           65    Senior  \n"
     ]
    }
   ],
   "source": [
    "# 5. categorize age groups\n",
    "patients['age_group'] = pd.cut(\n",
    "    patients['patient_age'],\n",
    "    bins=[0, 12, 19, 35, 60, 100],\n",
    "    labels=['Child', 'Teen', 'Young Adult', 'Adult', 'Senior']\n",
    ")\n",
    "print(patients.head())"
   ]
  },
  {
   "cell_type": "code",
   "execution_count": 136,
   "id": "0028d8d7-b96a-4cdd-b54c-bafd4ecec590",
   "metadata": {},
   "outputs": [
    {
     "name": "stdout",
     "output_type": "stream",
     "text": [
      "  patient_id first_name last_name  gender date_of_birth  contact_number  \\\n",
      "0       P001      David  Williams  Female    1955-06-04      6939585183   \n",
      "1       P002      Emily     Smith  Female    1984-10-12      8228188767   \n",
      "2       P003      Laura     Jones    Male    1977-08-21      8397029847   \n",
      "3       P004    Michael   Johnson  Female    1981-02-20      9019443432   \n",
      "4       P005      David    Wilson    Male    1960-06-23      7734463155   \n",
      "\n",
      "        address registration_date insurance_provider insurance_number  \\\n",
      "0   789 Pine Rd        2022-06-23       WellnessCorp        INS840674   \n",
      "1  321 Maple Dr        2022-01-15        PulseSecure        INS354079   \n",
      "2  321 Maple Dr        2022-02-07        PulseSecure        INS650929   \n",
      "3    123 Elm St        2021-03-02        HealthIndia        INS789944   \n",
      "4    123 Elm St        2021-09-29       MedCare Plus        INS788105   \n",
      "\n",
      "                      email  \n",
      "0   david.williams@mail.com  \n",
      "1      emily.smith@mail.com  \n",
      "2      laura.jones@mail.com  \n",
      "3  michael.johnson@mail.com  \n",
      "4     david.wilson@mail.com  \n"
     ]
    }
   ],
   "source": [
    "# 6. map gender values\n",
    "patients['gender'] = patients['gender'].replace({'M': 'Male', 'F': 'Female'})\n",
    "print(patients.head())"
   ]
  },
  {
   "cell_type": "code",
   "execution_count": 193,
   "id": "9058abe7-c2c8-485e-bfdd-165b42108b24",
   "metadata": {},
   "outputs": [
    {
     "name": "stdout",
     "output_type": "stream",
     "text": [
      "  treatment_id appointment_id treatment_type         description     cost  \\\n",
      "0         T001           A001   Chemotherapy     Basic screening  3941.97   \n",
      "1         T002           A002            MRI   Advanced protocol  4158.44   \n",
      "2         T003           A003            MRI  Standard procedure  3731.55   \n",
      "3         T004           A004            MRI     Basic screening  4799.86   \n",
      "4         T005           A005            ECG  Standard procedure   582.05   \n",
      "\n",
      "  treatment_date  treatment_duration  \n",
      "0     2023-08-09                   1  \n",
      "1     2023-06-09                   1  \n",
      "2     2023-06-28                   1  \n",
      "3     2023-09-01                   1  \n",
      "4     2023-07-06                   1  \n"
     ]
    }
   ],
   "source": [
    "# 7. set default treatment duration since end date is not available\n",
    "treatments['treatment_duration'] = 1\n",
    "print(treatments.head())\n"
   ]
  },
  {
   "cell_type": "code",
   "execution_count": 140,
   "id": "1506fb15-53fe-4d2e-9b1d-2e72be009db4",
   "metadata": {},
   "outputs": [
    {
     "name": "stdout",
     "output_type": "stream",
     "text": [
      "  appointment_id patient_id doctor_id appointment_date appointment_time  \\\n",
      "0           A001       P034      D009       2023-08-09         15:15:00   \n",
      "1           A002       P032      D004       2023-06-09         14:30:00   \n",
      "2           A003       P048      D004       2023-06-28          8:00:00   \n",
      "3           A004       P025      D006       2023-09-01          9:15:00   \n",
      "4           A005       P040      D003       2023-07-06         12:45:00   \n",
      "\n",
      "  reason_for_visit     status first_name last_name  gender date_of_birth  \\\n",
      "0          Therapy  Scheduled       Alex     Smith  Female    1950-01-26   \n",
      "1          Therapy    No-show       Alex     Moore    Male    1981-01-08   \n",
      "2     Consultation  Cancelled      Emily    Miller    Male    1983-03-24   \n",
      "3     Consultation  Cancelled     Robert    Wilson    Male    1966-08-14   \n",
      "4        Emergency    No-show      Emily  Williams    Male    1972-05-30   \n",
      "\n",
      "   contact_number       address registration_date insurance_provider  \\\n",
      "0      8374657733  321 Maple Dr        2023-06-18       WellnessCorp   \n",
      "1      8102183595    123 Elm St        2021-10-02       MedCare Plus   \n",
      "2      8720989381    123 Elm St        2023-06-19        PulseSecure   \n",
      "3      7482069727    123 Elm St        2021-09-09        HealthIndia   \n",
      "4      7587653815   456 Oak Ave        2021-10-16        PulseSecure   \n",
      "\n",
      "  insurance_number                    email  \n",
      "0        INS653880      alex.smith@mail.com  \n",
      "1        INS335362      alex.moore@mail.com  \n",
      "2        INS694319    emily.miller@mail.com  \n",
      "3        INS833429   robert.wilson@mail.com  \n",
      "4        INS320984  emily.williams@mail.com  \n"
     ]
    }
   ],
   "source": [
    "# 8. merge appointments with patients\n",
    "appt_patients = appointments.merge(patients, on=\"patient_id\", how=\"left\")\n",
    "print(appt_patients.head())"
   ]
  },
  {
   "cell_type": "code",
   "execution_count": 142,
   "id": "55b93664-3e3a-48e7-8093-1d008436e46b",
   "metadata": {},
   "outputs": [
    {
     "name": "stdout",
     "output_type": "stream",
     "text": [
      "  appointment_id patient_id doctor_id appointment_date appointment_time  \\\n",
      "0           A001       P034      D009       2023-08-09         15:15:00   \n",
      "1           A002       P032      D004       2023-06-09         14:30:00   \n",
      "2           A003       P048      D004       2023-06-28          8:00:00   \n",
      "3           A004       P025      D006       2023-09-01          9:15:00   \n",
      "4           A005       P040      D003       2023-07-06         12:45:00   \n",
      "\n",
      "  reason_for_visit     status first_name last_name specialization  \\\n",
      "0          Therapy  Scheduled      Sarah     Smith     Pediatrics   \n",
      "1          Therapy    No-show      David     Jones     Pediatrics   \n",
      "2     Consultation  Cancelled      David     Jones     Pediatrics   \n",
      "3     Consultation  Cancelled       Alex     Davis     Pediatrics   \n",
      "4        Emergency    No-show       Jane     Smith     Pediatrics   \n",
      "\n",
      "   phone_number  years_experience   hospital_branch  \\\n",
      "0    7387087517                26  Central Hospital   \n",
      "1    6594221991                28  Central Hospital   \n",
      "2    6594221991                28  Central Hospital   \n",
      "3    6570137231                23  Central Hospital   \n",
      "4    8737740598                19   Eastside Clinic   \n",
      "\n",
      "                         email  \n",
      "0  dr.sarah.smith@hospital.com  \n",
      "1  dr.david.jones@hospital.com  \n",
      "2  dr.david.jones@hospital.com  \n",
      "3   dr.alex.davis@hospital.com  \n",
      "4   dr.jane.smith@hospital.com  \n"
     ]
    }
   ],
   "source": [
    "# 9. merge appointments with doctors\n",
    "appt_doctors = appointments.merge(doctors, on=\"doctor_id\", how=\"left\")\n",
    "print(appt_doctors.head())"
   ]
  },
  {
   "cell_type": "code",
   "execution_count": 144,
   "id": "09bb52fc-83f3-49ba-be46-e009b316f858",
   "metadata": {},
   "outputs": [
    {
     "name": "stdout",
     "output_type": "stream",
     "text": [
      "  bill_id patient_id treatment_id   bill_date   amount payment_method  \\\n",
      "0    B001       P034         T001  2023-08-09  3941.97      Insurance   \n",
      "1    B002       P032         T002  2023-06-09  4158.44      Insurance   \n",
      "2    B003       P048         T003  2023-06-28  3731.55      Insurance   \n",
      "3    B004       P025         T004  2023-09-01  4799.86      Insurance   \n",
      "4    B005       P040         T005  2023-07-06   582.05    Credit Card   \n",
      "\n",
      "  payment_status first_name last_name  gender date_of_birth  contact_number  \\\n",
      "0        Pending       Alex     Smith  Female    1950-01-26      8374657733   \n",
      "1           Paid       Alex     Moore    Male    1981-01-08      8102183595   \n",
      "2           Paid      Emily    Miller    Male    1983-03-24      8720989381   \n",
      "3         Failed     Robert    Wilson    Male    1966-08-14      7482069727   \n",
      "4        Pending      Emily  Williams    Male    1972-05-30      7587653815   \n",
      "\n",
      "        address registration_date insurance_provider insurance_number  \\\n",
      "0  321 Maple Dr        2023-06-18       WellnessCorp        INS653880   \n",
      "1    123 Elm St        2021-10-02       MedCare Plus        INS335362   \n",
      "2    123 Elm St        2023-06-19        PulseSecure        INS694319   \n",
      "3    123 Elm St        2021-09-09        HealthIndia        INS833429   \n",
      "4   456 Oak Ave        2021-10-16        PulseSecure        INS320984   \n",
      "\n",
      "                     email  \n",
      "0      alex.smith@mail.com  \n",
      "1      alex.moore@mail.com  \n",
      "2    emily.miller@mail.com  \n",
      "3   robert.wilson@mail.com  \n",
      "4  emily.williams@mail.com  \n"
     ]
    }
   ],
   "source": [
    "# 10. merge billing with patients\n",
    "billing_patients = peeling.merge(patients, on=\"patient_id\", how=\"left\")\n",
    "print(billing_patients.head())"
   ]
  },
  {
   "cell_type": "code",
   "execution_count": 146,
   "id": "d9af11de-6941-4548-b8c8-2d4dd6d1656c",
   "metadata": {},
   "outputs": [
    {
     "name": "stdout",
     "output_type": "stream",
     "text": [
      "  patient_id  total_bill\n",
      "0       P001     7719.07\n",
      "1       P002     5968.74\n",
      "2       P003     7936.88\n",
      "3       P004     5362.51\n",
      "4       P005    18609.91\n"
     ]
    }
   ],
   "source": [
    "# 11. total bill per patient\n",
    "billing_summary = peeling.groupby('patient_id')['amount'].sum().reset_index(name='total_bill')\n",
    "print(billing_summary.head())"
   ]
  },
  {
   "cell_type": "code",
   "execution_count": 148,
   "id": "4cb73e19-f3fc-486c-b1ec-3de63c1e409d",
   "metadata": {},
   "outputs": [
    {
     "name": "stdout",
     "output_type": "stream",
     "text": [
      "  patient_id  num_visits\n",
      "0       P012          10\n",
      "1       P005           8\n",
      "2       P016           7\n",
      "3       P036           7\n",
      "4       P029           7\n"
     ]
    }
   ],
   "source": [
    "# 12. find frequent visitors\n",
    "frequent_visitors = appointments['patient_id'].value_counts().reset_index()\n",
    "frequent_visitors.columns = ['patient_id', 'num_visits']\n",
    "print(frequent_visitors.head())"
   ]
  },
  {
   "cell_type": "code",
   "execution_count": 150,
   "id": "ae5ec221-fbf3-464a-8f69-b45c1699a95e",
   "metadata": {},
   "outputs": [
    {
     "name": "stdout",
     "output_type": "stream",
     "text": [
      "   patient_id first_name last_name gender date_of_birth  contact_number  \\\n",
      "5        P006      Linda     Jones   Male    1963-06-16      7561777264   \n",
      "14       P015      Sarah   Johnson   Male    1964-05-11      6636028516   \n",
      "\n",
      "         address registration_date insurance_provider insurance_number  \\\n",
      "5   321 Maple Dr        2022-10-02        HealthIndia        INS613758   \n",
      "14  321 Maple Dr        2021-09-25       WellnessCorp        INS922209   \n",
      "\n",
      "                     email  \n",
      "5     linda.jones@mail.com  \n",
      "14  sarah.johnson@mail.com  \n"
     ]
    }
   ],
   "source": [
    "# 13. patients without appointments\n",
    "no_appt = patients[~patients['patient_id'].isin(appointments['patient_id'])]\n",
    "print(no_appt.head())"
   ]
  },
  {
   "cell_type": "code",
   "execution_count": 152,
   "id": "a5d65b18-fabf-4874-9a5a-3022d633b5c5",
   "metadata": {},
   "outputs": [
    {
     "name": "stdout",
     "output_type": "stream",
     "text": [
      "  patient_id first_name last_name  gender date_of_birth  contact_number  \\\n",
      "0       P001      David  Williams  Female    1955-06-04      6939585183   \n",
      "1       P002      Emily     Smith  Female    1984-10-12      8228188767   \n",
      "2       P003      Laura     Jones    Male    1977-08-21      8397029847   \n",
      "3       P004    Michael   Johnson  Female    1981-02-20      9019443432   \n",
      "4       P005      David    Wilson    Male    1960-06-23      7734463155   \n",
      "\n",
      "        address registration_date insurance_provider insurance_number  \\\n",
      "0   789 Pine Rd        2022-06-23       WellnessCorp        INS840674   \n",
      "1  321 Maple Dr        2022-01-15        PulseSecure        INS354079   \n",
      "2  321 Maple Dr        2022-02-07        PulseSecure        INS650929   \n",
      "3    123 Elm St        2021-03-02        HealthIndia        INS789944   \n",
      "4    123 Elm St        2021-09-29       MedCare Plus        INS788105   \n",
      "\n",
      "                      email  \n",
      "0   david.williams@mail.com  \n",
      "1      emily.smith@mail.com  \n",
      "2      laura.jones@mail.com  \n",
      "3  michael.johnson@mail.com  \n",
      "4     david.wilson@mail.com  \n"
     ]
    }
   ],
   "source": [
    "# 14. remove duplicate patients\n",
    "patients = patients.drop_duplicates(subset=['patient_id'])\n",
    "print(patients.head())"
   ]
  },
  {
   "cell_type": "code",
   "execution_count": 207,
   "id": "cd2488a8-8126-4786-b39f-d05ba6541933",
   "metadata": {},
   "outputs": [
    {
     "name": "stdout",
     "output_type": "stream",
     "text": [
      "  bill_id patient_id treatment_id   bill_date   amount payment_method  \\\n",
      "0    B001       P034         T001  2023-08-09  3941.97      Insurance   \n",
      "1    B002       P032         T002  2023-06-09  4158.44      Insurance   \n",
      "2    B003       P048         T003  2023-06-28  3731.55      Insurance   \n",
      "3    B004       P025         T004  2023-09-01  4799.86      Insurance   \n",
      "4    B005       P040         T005  2023-07-06   582.05    Credit Card   \n",
      "\n",
      "  payment_status   due_date payment_date  is_late  \n",
      "0        Pending 2023-09-08          NaT    False  \n",
      "1           Paid 2023-07-09   2023-06-09    False  \n",
      "2           Paid 2023-07-28   2023-06-28    False  \n",
      "3         Failed 2023-10-01          NaT    False  \n",
      "4        Pending 2023-08-05          NaT    False  \n"
     ]
    }
   ],
   "source": [
    "# create due_date: 30 days after bill_date\n",
    "billing['due_date'] = pd.to_datetime(billing['bill_date']) + pd.Timedelta(days=30)\n",
    "\n",
    "# create payment_date: assume paid on bill_date if 'Paid', else NaT\n",
    "billing['payment_date'] = pd.to_datetime(\n",
    "    billing['bill_date'].where(billing['payment_status'] == 'Paid', pd.NaT)\n",
    ")\n",
    "\n",
    "# flag late payments\n",
    "billing['is_late'] = billing['payment_date'] > billing['due_date']\n",
    "\n",
    "print(billing.head())"
   ]
  },
  {
   "cell_type": "code",
   "execution_count": 217,
   "id": "3255442f-756d-46f3-ab88-ab4b1e1cd37e",
   "metadata": {},
   "outputs": [
    {
     "name": "stdout",
     "output_type": "stream",
     "text": [
      "  doctor_id  patient_id\n",
      "0      D005          23\n",
      "1      D001          20\n",
      "2      D006          19\n",
      "3      D003          18\n",
      "4      D002          17\n"
     ]
    }
   ],
   "source": [
    "# 18. top 5 doctors by patient count\n",
    "top_doctors = appointments.groupby('doctor_id')['patient_id'].nunique().nlargest(5).reset_index()\n",
    "print(top_doctors.head())"
   ]
  },
  {
   "cell_type": "code",
   "execution_count": 219,
   "id": "8eadef0a-6291-424f-a57d-f5fc03442f06",
   "metadata": {},
   "outputs": [
    {
     "name": "stdout",
     "output_type": "stream",
     "text": [
      "  treatment_type       amount\n",
      "0   Chemotherapy  2629.707755\n",
      "1            ECG  2532.216842\n",
      "2            MRI  3224.948889\n",
      "3  Physiotherapy  2761.613889\n",
      "4          X-Ray  2698.870000\n"
     ]
    }
   ],
   "source": [
    "# 19. average billing per treatment type\n",
    "billing_treatment = peeling.merge(treatments, on=\"treatment_id\", how=\"left\")\n",
    "avg_bill = billing_treatment.groupby('treatment_type')['amount'].mean().reset_index()\n",
    "print(avg_bill.head())"
   ]
  },
  {
   "cell_type": "code",
   "execution_count": 221,
   "id": "66a603cd-a715-44fe-a5bd-2a962d5f06f2",
   "metadata": {},
   "outputs": [
    {
     "name": "stdout",
     "output_type": "stream",
     "text": [
      "  patient_id  lifetime_value\n",
      "0       P001         7719.07\n",
      "1       P002         5968.74\n",
      "2       P003         7936.88\n",
      "3       P004         5362.51\n",
      "4       P005        18609.91\n"
     ]
    }
   ],
   "source": [
    "# 20. calculate patient lifetime value (LTV)\n",
    "ltv = peeling.groupby('patient_id')['amount'].sum().reset_index(name='lifetime_value')\n",
    "print(ltv.head())"
   ]
  },
  {
   "cell_type": "markdown",
   "id": "1f765942-b3ed-4758-91e1-b098f6fbded5",
   "metadata": {},
   "source": [
    "## 5. Export Cleaned Data for Power BI"
   ]
  },
  {
   "cell_type": "code",
   "execution_count": null,
   "id": "3a495e9f-6860-40ca-9089-e9b5aa4fb2b4",
   "metadata": {},
   "outputs": [],
   "source": [
    "\n",
    "# Save cleaned tables for Power BI (CSV format)\n",
    "export_path = os.path.join(folder_path, \"cleaned\")\n",
    "\n",
    "os.makedirs(export_path, exist_ok=True)\n",
    "\n",
    "patients.to_csv(os.path.join(export_path, \"patients_clean.csv\"), index=False)\n",
    "appointments.to_csv(os.path.join(export_path, \"appointments_clean.csv\"), index=False)\n",
    "doctors.to_csv(os.path.join(export_path, \"doctors_clean.csv\"), index=False)\n",
    "treatments.to_csv(os.path.join(export_path, \"treatments_clean.csv\"), index=False)\n",
    "billing.to_csv(os.path.join(export_path, \"billing_clean.csv\"), index=False)\n",
    "\n",
    "print(\"✅ Cleaned data exported successfully for Power BI.\")\n",
    "    "
   ]
  },
  {
   "cell_type": "markdown",
   "id": "67872711-3c72-475d-bf2f-e9d010fb3750",
   "metadata": {},
   "source": [
    "\n",
    "## 6. Closing Note\n",
    "\n",
    "The dataset is relatively **small and already structured**, which makes **Power BI the ideal tool for interactive dashboards and reporting**.  \n",
    "\n",
    "This notebook demonstrates how Python can be used for **ETL and data preparation**, complementing Power BI for **business intelligence delivery**.  \n",
    "Together, they provide an end-to-end workflow: **Python for ETL + Power BI for visualization**.\n",
    "    "
   ]
  },
  {
   "cell_type": "code",
   "execution_count": 211,
   "id": "9da6a3cd-5dfd-4a74-b3f8-40beb9fed449",
   "metadata": {},
   "outputs": [
    {
     "name": "stdout",
     "output_type": "stream",
     "text": [
      "Index(['appointment_id', 'patient_id', 'doctor_id', 'appointment_date',\n",
      "       'appointment_time', 'reason_for_visit', 'status'],\n",
      "      dtype='object')\n"
     ]
    }
   ],
   "source": [
    "print(appointments.columns)\n"
   ]
  },
  {
   "cell_type": "code",
   "execution_count": null,
   "id": "a33beb28-e248-479c-b7ee-00c195a7daf5",
   "metadata": {},
   "outputs": [],
   "source": []
  }
 ],
 "metadata": {
  "kernelspec": {
   "display_name": "Python [conda env:base] *",
   "language": "python",
   "name": "conda-base-py"
  },
  "language_info": {
   "codemirror_mode": {
    "name": "ipython",
    "version": 3
   },
   "file_extension": ".py",
   "mimetype": "text/x-python",
   "name": "python",
   "nbconvert_exporter": "python",
   "pygments_lexer": "ipython3",
   "version": "3.12.7"
  }
 },
 "nbformat": 4,
 "nbformat_minor": 5
}
